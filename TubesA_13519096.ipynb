{
  "cells": [
    {
      "cell_type": "markdown",
      "metadata": {
        "id": "wX_gwSZ_6ZKO"
      },
      "source": [
        "# **Tugas Besar A - IF3270 Pembelajaran Mesin**\n",
        "Authors:\n",
        "1. 13519096 Girvin Junod\n",
        "2. 13519116 Jeane Mikha Erwansyah\n",
        "3. 13519131 Hera Shafira\n",
        "4. 13519188 Jeremia Axel\n",
        "---"
      ]
    },
    {
      "cell_type": "markdown",
      "metadata": {
        "id": "tHAq5ADxPg6U"
      },
      "source": [
        "## Install Libraries"
      ]
    },
    {
      "cell_type": "code",
      "execution_count": null,
      "metadata": {
        "colab": {
          "base_uri": "https://localhost:8080/"
        },
        "id": "E-uXAhZ5Pt6V",
        "outputId": "232f2da0-6fa9-4368-a944-23c6b5ed05f7"
      },
      "outputs": [],
      "source": [
        "!pip install icecream\n",
        "!pip install networkx\n",
        "!pip install pandas\n",
        "!pip install numpy\n",
        "!pip install matplotlib"
      ]
    },
    {
      "cell_type": "markdown",
      "metadata": {
        "id": "B6_VuJbZ64yD"
      },
      "source": [
        "## Load libraries"
      ]
    },
    {
      "cell_type": "code",
      "execution_count": 368,
      "metadata": {
        "id": "tP_mwtuv4W_7"
      },
      "outputs": [],
      "source": [
        "import pandas as pd\n",
        "import os, subprocess, sys\n",
        "import json, math, typing, copy\n",
        "import numpy as np, networkx as nx, matplotlib as plt\n",
        "from icecream import ic"
      ]
    },
    {
      "cell_type": "markdown",
      "metadata": {
        "id": "QNnoGGyB7W42"
      },
      "source": [
        "## Enums"
      ]
    },
    {
      "cell_type": "code",
      "execution_count": 369,
      "metadata": {
        "id": "D8Qalm1u7Zl-"
      },
      "outputs": [],
      "source": [
        "class LayerType:\n",
        "\tINPUT = \"input\"\n",
        "\tHIDDEN = \"hidden\"\n",
        "\tOUTPUT = \"output\"\n",
        "\n",
        "class ActivationFunction:\n",
        "\tSIGMOID = \"sigmoid\"\n",
        "\tRELU = \"relu\"\n",
        "\tSOFTMAX = \"softmax\"\n",
        "\tLINEAR = \"linear\""
      ]
    },
    {
      "cell_type": "markdown",
      "metadata": {
        "id": "rGxBGS587e6q"
      },
      "source": [
        "## Utility Functions"
      ]
    },
    {
      "cell_type": "code",
      "execution_count": 370,
      "metadata": {
        "id": "ztAH1zztGkcj"
      },
      "outputs": [],
      "source": [
        "class Utils:\n",
        "\t@staticmethod\n",
        "\tdef matrix_dimension(mat: typing.List[list]) -> typing.Tuple[int, int]:\n",
        "\t\treturn len(mat), len(mat[0])\n",
        "\n",
        "\t@staticmethod\n",
        "\tdef get_layer_type(type: str):\n",
        "\t\tif type == 'input':\n",
        "\t\t\treturn LayerType.INPUT\n",
        "\t\telif type == 'hidden':\n",
        "\t\t\treturn LayerType.HIDDEN\n",
        "\t\telif type == 'output':\n",
        "\t\t\treturn LayerType.OUTPUT\n",
        "\t  \n",
        "\t@staticmethod\n",
        "\tdef get_activation_func(activation_func: str):\n",
        "\t\tif activation_func == 'sigmoid':\n",
        "\t\t  return ActivationFunction.SIGMOID\n",
        "\t\telif activation_func == 'linear':\n",
        "\t\t  return ActivationFunction.LINEAR\n",
        "\t\telif activation_func == 'relu':\n",
        "\t\t  return ActivationFunction.RELU\n",
        "\t\telif activation_func == 'softmax':\n",
        "\t\t  return ActivationFunction.SOFTMAX\n",
        "\t\t  \n",
        "\t@staticmethod\n",
        "\tdef parse_json(filename):\n",
        "\t\twith open(filename, 'r') as f:\n",
        "\t\t\tdata = json.load(f)\n",
        "\t\t\treturn data\n",
        "\n",
        "\t@staticmethod\n",
        "\tdef export_json(filename, data):\n",
        "\t\twith open(filename, 'w') as f:\n",
        "\t\t\tf.write(json.dumps(data, indent=2))\n",
        "\n",
        "\t@staticmethod\n",
        "\tdef install(package):\n",
        "\t\tsubprocess.check_call([sys.executable, \"-m\", \"pip\", \"install\", ''.join(package)])"
      ]
    },
    {
      "cell_type": "markdown",
      "metadata": {
        "id": "KRyyj_QlGqfk"
      },
      "source": [
        "## Layer Class"
      ]
    },
    {
      "cell_type": "code",
      "execution_count": 371,
      "metadata": {
        "id": "QC9FJsPWGu57"
      },
      "outputs": [],
      "source": [
        "class Layer:\n",
        "\tdef __init__(self, weights: typing.List[list],\n",
        "\t\t\t\t bias_weights: typing.List[float],\n",
        "\t\t\t\t values: typing.List[list],\n",
        "\t\t\t\t layer_type: LayerType,\n",
        "\t\t\t\t label: str,\n",
        "\t\t\t\t num_nodes: int,\n",
        "\t\t\t\t activation_func: ActivationFunction):\n",
        "\t\tself.weights = np.array(weights, dtype=float)\n",
        "\t\tself.bias_weights = np.array(bias_weights, dtype=float)\n",
        "\t\tself.values = np.array(values, dtype=float)\n",
        "\t\tself.label = label\n",
        "\t\tself.type = layer_type\n",
        "\t\tself.num_nodes = num_nodes\n",
        "\t\tself.activation_func = activation_func\n",
        "\n",
        "\tdef __str__(self):\n",
        "\t\tif self.type != LayerType.INPUT:\n",
        "\t\t\tres = \"{} layer with {} weights\".format(self.label, len(self.weights))\n",
        "\t\telse:\n",
        "\t\t\tres = \"{} layer with {} values\".format(self.label, len(self.values))\n",
        "\t\treturn res"
      ]
    },
    {
      "cell_type": "markdown",
      "metadata": {
        "id": "hTc9FvzzG7O-"
      },
      "source": [
        "## Graph Class"
      ]
    },
    {
      "cell_type": "code",
      "execution_count": 372,
      "metadata": {
        "id": "A_vqOVy7G-Gn"
      },
      "outputs": [],
      "source": [
        "class Graph:\n",
        "\tdef __init__(self, layers: typing.List[Layer]=None):\n",
        "\t\tself.layers = []\n",
        "\t\tif layers is not None:\n",
        "\t\t\tself.layers = layers\n",
        "\n",
        "\tdef __str__(self):\n",
        "\t\treturn \"Graph with {} layers\".format(len(self.layers))\n",
        "\n",
        "\tdef add_layer(self, layer: Layer):\n",
        "\t\tself.layers.append(layer)\n",
        "\n",
        "\tdef net_value_vector(self, layer_idx: int):\n",
        "\t\treturn np.array(\n",
        "\t\t\t[(\n",
        "\t\t\t\tnp.dot(\n",
        "\t\t\t\t\tnp.transpose(self.layers[layer_idx].weights),\n",
        "\t\t\t\t\tself.layers[layer_idx-1].values[0]\n",
        "\t\t\t\t) + self.layers[layer_idx].bias_weights\n",
        "\t\t\t).tolist()], \n",
        "\t\t\tdtype=float\n",
        "\t\t)\n",
        "\n",
        "\tdef net_value_batch(self, layer_idx):\n",
        "\t\treturn np.dot(\n",
        "\t\t\tself.layers[layer_idx - 1].values,\n",
        "\t\t\tself.layers[layer_idx].weights) + self.layers[layer_idx].bias_weights\n",
        "\n",
        "\tdef layer_value(self, layer_idx: int):\n",
        "\t\tlayer = self.layers[layer_idx]\n",
        "\n",
        "\t\tif len(self.layers[layer_idx - 1].values) == 1:\n",
        "\t\t\tlayer.values = self.net_value_vector(layer_idx)\n",
        "\t\telse:\n",
        "\t\t\tlayer.values = self.net_value_batch(layer_idx)\n",
        "\n",
        "\t\tif layer.activation_func == ActivationFunction.LINEAR:\n",
        "\t\t\tlayer.values = self.linear_activation(layer.values)\n",
        "\t\telif layer.activation_func == ActivationFunction.SIGMOID:\n",
        "\t\t\tlayer.values = self.sigmoid_activation(layer.values)\n",
        "\t\telif layer.activation_func == ActivationFunction.RELU:\n",
        "\t\t\tlayer.values = self.relu_activation(layer.values)\n",
        "\t\telif layer.activation_func == ActivationFunction.SOFTMAX:\n",
        "\t\t\tlayer.values = self.softmax_activation(layer.values)\n",
        "\n",
        "\tdef linear_activation(self, net_mat):\n",
        "\t\treturn net_mat\n",
        "\n",
        "\tdef sigmoid_activation(self, net_mat):\n",
        "\t\tdim = Utils.matrix_dimension(net_mat)\n",
        "\t\tfor i in range(dim[0]):\n",
        "\t\t\tfor j in range(dim[1]):\n",
        "\t\t\t\tnet_mat[i][j] = 1 / (1 + math.exp(-1 * net_mat[i][j]))\n",
        "\t\treturn net_mat\n",
        "\n",
        "\tdef relu_activation(self, net_mat):\n",
        "\t\tdim = Utils.matrix_dimension(net_mat)\n",
        "\t\tfor i in range(dim[0]):\n",
        "\t\t\tfor j in range(dim[1]):\n",
        "\t\t\t\tnet_mat[i][j] = max(0, net_mat[i][j])\n",
        "\t\treturn net_mat\n",
        "\n",
        "\tdef softmax_activation(self, net_mat):\n",
        "\t\tdim = Utils.matrix_dimension(net_mat)\n",
        "\t\tsum_exp = []\n",
        "\t\tfor i in range(dim[0]):\n",
        "\t\t\tsum = 0\n",
        "\t\t\tfor j in range(dim[1]):\n",
        "\t\t\t\tsum += math.exp(net_mat[i][j])\n",
        "\t\t\tsum_exp.append(sum)\n",
        "\n",
        "\t\tfor i in range(dim[0]):\n",
        "\t\t\tfor j in range(dim[1]):\n",
        "\t\t\t\tnet_mat[i][j] = math.exp(net_mat[i][j]) / sum_exp[i]\n",
        "\n",
        "\t\treturn net_mat\n",
        "\n",
        "\tdef predict(self, input):\n",
        "\t\tnp_input = np.array(input)\n",
        "\t\tif len(np_input.shape)==1:\n",
        "\t\t\tself.layers[0].values = [input]\n",
        "\t\telse:\n",
        "\t\t\tself.layers[0].values = input\n",
        "\t\t\n",
        "\t\tself.layers[0].num_nodes = len(input)\n",
        "\t\tfor i in range(1, len(self.layers)):\n",
        "\t\t\tself.layer_value(i)\n",
        "\t\tres = self.layers[len(self.layers) - 1].values\n",
        "\t\t\t\n",
        "\t\tif len(res) == 1:\n",
        "\t\t\treturn res[0]\n",
        "\t\telse:\n",
        "\t\t\treturn res\n",
        "\t\t\t\n",
        "\tdef load_graph(self, filename):\n",
        "\t\t'''\n",
        "\t\tload a json file to Graph\n",
        "\t\t'''\n",
        "\t\tdata = Utils.parse_json(filename) # parse from json\n",
        "\t\tfor layer in data[\"layers\"]:\n",
        "\t\t\ttype = Utils.get_layer_type(layer[\"type\"])\n",
        "\t\t\tif type != LayerType.INPUT:\n",
        "\t\t\t\tact = Utils.get_activation_func(layer[\"activation_func\"])\n",
        "\t  \n",
        "\t\t\tif type:\n",
        "\t\t\t\tnew_layer = Layer(\n",
        "\t\t\t\t\tweights=layer[\"weights\"] if type != LayerType.INPUT else None,\n",
        "\t\t\t\t\tbias_weights=layer[\"bias_weights\"] if type != LayerType.INPUT else None,\n",
        "\t\t\t\t\tvalues=[] if type == LayerType.INPUT else [0]*layer[\"num_nodes\"],\n",
        "\t\t\t\t\tlayer_type=type,\n",
        "\t\t\t\t\tlabel=layer[\"label\"],\n",
        "\t\t\t\t\tnum_nodes=layer[\"num_nodes\"] if type!=LayerType.INPUT else None,\n",
        "\t\t\t\t\tactivation_func=act if type != LayerType.INPUT else None)\n",
        "\t\t\t\tself.add_layer(new_layer)\n",
        "\n",
        "\tdef visualize(self, filename=\"data/plot.png\"):\n",
        "\t\tvisual = nx.DiGraph()\n",
        "\n",
        "\t\tfor i in range(len(self.layers)):\n",
        "\t\t\tlayer = self.layers[i]\n",
        "\t\t\tvisual.add_node(layer.label, pos=(0, i))\n",
        "\n",
        "\t\tnodes = list(visual.nodes)\n",
        "\t\tfor i in range(len(nodes)):\n",
        "\t\t\ttry:\n",
        "\t\t\t\tvisual.add_edge(nodes[i], nodes[i+1])\n",
        "\t\t\texcept:\n",
        "\t\t\t\tpass\n",
        "\n",
        "\t\tpos = nx.get_node_attributes(visual, \"pos\")\n",
        "\n",
        "\t\tnx.draw(\n",
        "\t\t\tvisual,\n",
        "\t\t\tpos=pos,\n",
        "\t\t\tedge_color=\"black\",\n",
        "\t\t\twidth=1,\n",
        "\t\t\tlinewidths=1,\n",
        "\t\t\tnode_size=500,\n",
        "\t\t\tnode_color=\"pink\",\n",
        "\t\t\twith_labels = True)\n",
        "\n",
        "\t\tedges = list(visual.edges)\n",
        "\t\tlabels = dict()\n",
        "\t\tfor i in range(len(edges)):\n",
        "\t\t\tlabels[edges[i]]= \"w_[{}{}]\".format(list(edges[i])[0], list(edges[i])[1])\n",
        "\n",
        "\t\tnx.draw_networkx_edge_labels(\n",
        "\t\t\tvisual,\n",
        "\t\t\tpos,\n",
        "\t\t\tedge_labels=labels,\n",
        "\t\t\tfont_color=\"red\",\n",
        "\t\t\trotate=False)\n",
        "\t\t# plt.pyplot.show()\n",
        "\t\n",
        "\t\tif os.path.exists(filename): os.remove(filename)\n",
        "\t\tplt.pyplot.savefig(filename)\n",
        "\n",
        "\tdef display_table(self):\n",
        "\t\tcount = 0\n",
        "\t\tfor index, layer in enumerate(self.layers):\n",
        "\t\t\tprint(\"------------------------------\")\n",
        "\t\t\tprint(\"Layer: {}\".format(index))\n",
        "\n",
        "\t\t\tprint(\"Layer Type: {}\".format(layer.type))\n",
        "\t\t\tprint(\"Values:\")\n",
        "\t\t\tprint(layer.values)\n",
        "\t\t\tif layer.type != LayerType.INPUT:\n",
        "\t\t\t\tprint(\"Weight: \")\n",
        "\t\t\t\tprint(layer.weights)\n",
        "\t\t\t\t\n",
        "\t\t\t\tprint(\"Bias: \")\n",
        "\t\t\t\tprint(layer.bias_weights)\n",
        "\t\n",
        "\t\t\t\tprint(\"Activation Function: {}\".format(layer.activation_func))\n",
        "\t\t\t\n",
        "\t\t\tif (layer.type == LayerType.HIDDEN):\n",
        "\t\t\t\tcount+=1\n",
        "\t\t\n",
        "\t\tprint(\"------------------------------\")\n",
        "\t\tprint(\"Output: \")\n",
        "\t\tif (len(self.layers[0].values) != 0):\n",
        "\t\t\tprint(self.predict(self.layers[0].values))\n",
        "\t\telse:\n",
        "\t\t\tprint(\"No input\")\n",
        "\t\tprint(\"Number of hidden layers: {}\".format(count))"
      ]
    },
    {
      "cell_type": "markdown",
      "metadata": {
        "id": "UQK0SFh3HHra"
      },
      "source": [
        "## Main Function"
      ]
    },
    {
      "cell_type": "markdown",
      "metadata": {},
      "source": [
        "### XOR Sigmoid Model"
      ]
    },
    {
      "cell_type": "code",
      "execution_count": 373,
      "metadata": {
        "id": "y-QC9pSPHJTg"
      },
      "outputs": [],
      "source": [
        "np.set_printoptions(suppress=True)\n",
        "graphSigmoid = Graph()\n",
        "graphSigmoid.load_graph('data/xor_sigmoid.json')"
      ]
    },
    {
      "cell_type": "markdown",
      "metadata": {},
      "source": [
        "### Visualisasi Model"
      ]
    },
    {
      "cell_type": "code",
      "execution_count": 374,
      "metadata": {},
      "outputs": [
        {
          "name": "stdout",
          "output_type": "stream",
          "text": [
            "------------------------------\n",
            "Layer: 0\n",
            "Layer Type: input\n",
            "Values:\n",
            "[]\n",
            "------------------------------\n",
            "Layer: 1\n",
            "Layer Type: hidden\n",
            "Values:\n",
            "[0. 0.]\n",
            "Weight: \n",
            "[[ 20. -20.]\n",
            " [ 20. -20.]]\n",
            "Bias: \n",
            "[-10.  30.]\n",
            "Activation Function: sigmoid\n",
            "------------------------------\n",
            "Layer: 2\n",
            "Layer Type: output\n",
            "Values:\n",
            "[0.]\n",
            "Weight: \n",
            "[[20.]\n",
            " [20.]]\n",
            "Bias: \n",
            "[-30.]\n",
            "Activation Function: sigmoid\n",
            "------------------------------\n",
            "Output: \n",
            "No input\n",
            "Number of hidden layers: 1\n"
          ]
        }
      ],
      "source": [
        "graphSigmoid.display_table()"
      ]
    },
    {
      "cell_type": "code",
      "execution_count": 375,
      "metadata": {},
      "outputs": [
        {
          "data": {
            "image/png": "[encoded data removed]",
            "text/plain": [
              "<Figure size 432x288 with 1 Axes>"
            ]
          },
          "metadata": {},
          "output_type": "display_data"
        }
      ],
      "source": [
        "graphSigmoid.visualize()"
      ]
    },
    {
      "cell_type": "markdown",
      "metadata": {},
      "source": [
        "#### Input 1 Instance"
      ]
    },
    {
      "cell_type": "code",
      "execution_count": 376,
      "metadata": {},
      "outputs": [
        {
          "name": "stdout",
          "output_type": "stream",
          "text": [
            "------------------------------\n",
            "Layer: 0\n",
            "Layer Type: input\n",
            "Values:\n",
            "[[0, 0]]\n",
            "------------------------------\n",
            "Layer: 1\n",
            "Layer Type: hidden\n",
            "Values:\n",
            "[[0.0000454 1.       ]]\n",
            "Weight: \n",
            "[[ 20. -20.]\n",
            " [ 20. -20.]]\n",
            "Bias: \n",
            "[-10.  30.]\n",
            "Activation Function: sigmoid\n",
            "------------------------------\n",
            "Layer: 2\n",
            "Layer Type: output\n",
            "Values:\n",
            "[[0.00004544]]\n",
            "Weight: \n",
            "[[20.]\n",
            " [20.]]\n",
            "Bias: \n",
            "[-30.]\n",
            "Activation Function: sigmoid\n",
            "------------------------------\n",
            "Output: \n",
            "[0.00004544]\n",
            "Number of hidden layers: 1\n"
          ]
        }
      ],
      "source": [
        "graphSigmoid.predict([0,0])\n",
        "graphSigmoid.display_table()"
      ]
    },
    {
      "cell_type": "markdown",
      "metadata": {},
      "source": [
        "#### Input batch"
      ]
    },
    {
      "cell_type": "code",
      "execution_count": 377,
      "metadata": {},
      "outputs": [
        {
          "name": "stdout",
          "output_type": "stream",
          "text": [
            "------------------------------\n",
            "Layer: 0\n",
            "Layer Type: input\n",
            "Values:\n",
            "[[0, 0], [0, 1], [1, 0], [1, 1]]\n",
            "------------------------------\n",
            "Layer: 1\n",
            "Layer Type: hidden\n",
            "Values:\n",
            "[[0.0000454 1.       ]\n",
            " [0.9999546 0.9999546]\n",
            " [0.9999546 0.9999546]\n",
            " [1.        0.0000454]]\n",
            "Weight: \n",
            "[[ 20. -20.]\n",
            " [ 20. -20.]]\n",
            "Bias: \n",
            "[-10.  30.]\n",
            "Activation Function: sigmoid\n",
            "------------------------------\n",
            "Layer: 2\n",
            "Layer Type: output\n",
            "Values:\n",
            "[[0.00004544]\n",
            " [0.99995452]\n",
            " [0.99995452]\n",
            " [0.00004544]]\n",
            "Weight: \n",
            "[[20.]\n",
            " [20.]]\n",
            "Bias: \n",
            "[-30.]\n",
            "Activation Function: sigmoid\n",
            "------------------------------\n",
            "Output: \n",
            "[[0.00004544]\n",
            " [0.99995452]\n",
            " [0.99995452]\n",
            " [0.00004544]]\n",
            "Number of hidden layers: 1\n"
          ]
        }
      ],
      "source": [
        "graphSigmoid.predict([[0,0],[0,1],[1,0],[1,1]])\n",
        "graphSigmoid.display_table()"
      ]
    },
    {
      "cell_type": "markdown",
      "metadata": {},
      "source": [
        "### XOR Relu-Linear Model"
      ]
    },
    {
      "cell_type": "code",
      "execution_count": 378,
      "metadata": {},
      "outputs": [],
      "source": [
        "graphRelu = Graph()\n",
        "graphRelu.load_graph('data/xor_relu_linear.json')"
      ]
    },
    {
      "cell_type": "markdown",
      "metadata": {},
      "source": [
        "#### Visualisasi Model"
      ]
    },
    {
      "cell_type": "code",
      "execution_count": 379,
      "metadata": {
        "colab": {
          "base_uri": "https://localhost:8080/"
        },
        "id": "pS3zts5LXalQ",
        "outputId": "40db893f-07df-436b-ca15-dae96b0128a1"
      },
      "outputs": [
        {
          "name": "stdout",
          "output_type": "stream",
          "text": [
            "------------------------------\n",
            "Layer: 0\n",
            "Layer Type: input\n",
            "Values:\n",
            "[]\n",
            "------------------------------\n",
            "Layer: 1\n",
            "Layer Type: hidden\n",
            "Values:\n",
            "[0. 0.]\n",
            "Weight: \n",
            "[[1. 1.]\n",
            " [1. 1.]]\n",
            "Bias: \n",
            "[ 0. -1.]\n",
            "Activation Function: relu\n",
            "------------------------------\n",
            "Layer: 2\n",
            "Layer Type: output\n",
            "Values:\n",
            "[0.]\n",
            "Weight: \n",
            "[[ 1.]\n",
            " [-2.]]\n",
            "Bias: \n",
            "[0.]\n",
            "Activation Function: linear\n",
            "------------------------------\n",
            "Output: \n",
            "No input\n",
            "Number of hidden layers: 1\n"
          ]
        }
      ],
      "source": [
        "graphRelu.display_table()"
      ]
    },
    {
      "cell_type": "code",
      "execution_count": 380,
      "metadata": {},
      "outputs": [
        {
          "data": {
            "image/png": "[encoded data removed]",
            "text/plain": [
              "<Figure size 432x288 with 1 Axes>"
            ]
          },
          "metadata": {},
          "output_type": "display_data"
        }
      ],
      "source": [
        "graphRelu.visualize()"
      ]
    },
    {
      "cell_type": "markdown",
      "metadata": {},
      "source": [
        "#### Input 1 Instance"
      ]
    },
    {
      "cell_type": "code",
      "execution_count": 381,
      "metadata": {},
      "outputs": [
        {
          "name": "stdout",
          "output_type": "stream",
          "text": [
            "------------------------------\n",
            "Layer: 0\n",
            "Layer Type: input\n",
            "Values:\n",
            "[[0, 0]]\n",
            "------------------------------\n",
            "Layer: 1\n",
            "Layer Type: hidden\n",
            "Values:\n",
            "[[0. 0.]]\n",
            "Weight: \n",
            "[[1. 1.]\n",
            " [1. 1.]]\n",
            "Bias: \n",
            "[ 0. -1.]\n",
            "Activation Function: relu\n",
            "------------------------------\n",
            "Layer: 2\n",
            "Layer Type: output\n",
            "Values:\n",
            "[[0.]]\n",
            "Weight: \n",
            "[[ 1.]\n",
            " [-2.]]\n",
            "Bias: \n",
            "[0.]\n",
            "Activation Function: linear\n",
            "------------------------------\n",
            "Output: \n",
            "[0.]\n",
            "Number of hidden layers: 1\n"
          ]
        }
      ],
      "source": [
        "graphRelu.predict([0,0])\n",
        "graphRelu.display_table()"
      ]
    },
    {
      "cell_type": "markdown",
      "metadata": {},
      "source": [
        "#### Input Batch"
      ]
    },
    {
      "cell_type": "code",
      "execution_count": 382,
      "metadata": {},
      "outputs": [
        {
          "name": "stdout",
          "output_type": "stream",
          "text": [
            "------------------------------\n",
            "Layer: 0\n",
            "Layer Type: input\n",
            "Values:\n",
            "[[0, 0], [0, 1], [1, 0], [1, 1]]\n",
            "------------------------------\n",
            "Layer: 1\n",
            "Layer Type: hidden\n",
            "Values:\n",
            "[[0. 0.]\n",
            " [1. 0.]\n",
            " [1. 0.]\n",
            " [2. 1.]]\n",
            "Weight: \n",
            "[[1. 1.]\n",
            " [1. 1.]]\n",
            "Bias: \n",
            "[ 0. -1.]\n",
            "Activation Function: relu\n",
            "------------------------------\n",
            "Layer: 2\n",
            "Layer Type: output\n",
            "Values:\n",
            "[[0.]\n",
            " [1.]\n",
            " [1.]\n",
            " [0.]]\n",
            "Weight: \n",
            "[[ 1.]\n",
            " [-2.]]\n",
            "Bias: \n",
            "[0.]\n",
            "Activation Function: linear\n",
            "------------------------------\n",
            "Output: \n",
            "[[0.]\n",
            " [1.]\n",
            " [1.]\n",
            " [0.]]\n",
            "Number of hidden layers: 1\n"
          ]
        }
      ],
      "source": [
        "graphRelu.predict([[0,0],[0,1],[1,0],[1,1]])\n",
        "graphRelu.display_table()"
      ]
    }
  ],
  "metadata": {
    "colab": {
      "collapsed_sections": [],
      "name": "TubesA_13519096",
      "provenance": []
    },
    "kernelspec": {
      "display_name": "Python 3",
      "name": "python3"
    },
    "language_info": {
      "codemirror_mode": {
        "name": "ipython",
        "version": 3
      },
      "file_extension": ".py",
      "mimetype": "text/x-python",
      "name": "python",
      "nbconvert_exporter": "python",
      "pygments_lexer": "ipython3",
      "version": "3.8.10"
    }
  },
  "nbformat": 4,
  "nbformat_minor": 0
}
