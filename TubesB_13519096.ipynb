{
  "cells": [
    {
      "cell_type": "markdown",
      "metadata": {
        "id": "wX_gwSZ_6ZKO"
      },
      "source": [
        "# **Tugas Besar B - IF3270 Pembelajaran Mesin**\n",
        "Authors:\n",
        "\n",
        "1. 13519096 Girvin Junod\n",
        "\n",
        "2. 13519116 Jeane Mikha Erwansyah\n",
        "\n",
        "3. 13519131 Hera Shafira\n",
        "\n",
        "4. 13519188 Jeremia Axel\n"
      ]
    },
    {
      "cell_type": "markdown",
      "metadata": {
        "id": "tHAq5ADxPg6U"
      },
      "source": [
        "## Install Libraries"
      ]
    },
    {
      "cell_type": "code",
      "execution_count": null,
      "metadata": {
        "colab": {
          "base_uri": "https://localhost:8080/"
        },
        "id": "E-uXAhZ5Pt6V",
        "outputId": "d107a7ac-38b8-4274-c877-8a18604cbbd5"
      },
      "outputs": [],
      "source": [
        "!pip install icecream\n",
        "!pip install networkx\n",
        "!pip install pandas\n",
        "!pip install numpy\n",
        "!pip install matplotlib"
      ]
    },
    {
      "cell_type": "markdown",
      "metadata": {
        "id": "B6_VuJbZ64yD"
      },
      "source": [
        "## Load libraries"
      ]
    },
    {
      "cell_type": "code",
      "execution_count": 3,
      "metadata": {
        "id": "tP_mwtuv4W_7"
      },
      "outputs": [],
      "source": [
        "import pandas as pd\n",
        "import os, subprocess, sys\n",
        "import json, math, typing, copy\n",
        "import numpy as np, networkx as nx, matplotlib as plt\n",
        "from icecream import ic"
      ]
    },
    {
      "cell_type": "markdown",
      "metadata": {
        "id": "QNnoGGyB7W42"
      },
      "source": [
        "## Enums"
      ]
    },
    {
      "cell_type": "code",
      "execution_count": 4,
      "metadata": {
        "id": "D8Qalm1u7Zl-"
      },
      "outputs": [],
      "source": [
        "class ActivationFunction:\n",
        "\tSIGMOID = \"sigmoid\"\n",
        "\tRELU = \"relu\"\n",
        "\tSOFTMAX = \"softmax\"\n",
        "\tLINEAR = \"linear\""
      ]
    },
    {
      "cell_type": "markdown",
      "metadata": {
        "id": "rGxBGS587e6q"
      },
      "source": [
        "## Utility Functions"
      ]
    },
    {
      "cell_type": "code",
      "execution_count": 5,
      "metadata": {
        "id": "ztAH1zztGkcj"
      },
      "outputs": [],
      "source": [
        "class Utils:\n",
        "\t@staticmethod\n",
        "\tdef get_activation_func(activation_func: str):\n",
        "\t\tif activation_func == 'sigmoid':\n",
        "\t\t  return ActivationFunction.SIGMOID\n",
        "\t\telif activation_func == 'linear':\n",
        "\t\t  return ActivationFunction.LINEAR\n",
        "\t\telif activation_func == 'relu':\n",
        "\t\t  return ActivationFunction.RELU\n",
        "\t\telif activation_func == 'softmax':\n",
        "\t\t  return ActivationFunction.SOFTMAX\n",
        "\t@staticmethod\n",
        "\tdef install(package):\n",
        "\t\tsubprocess.check_call([sys.executable, \"-m\", \"pip\", \"install\", ''.join(package)])"
      ]
    },
    {
      "cell_type": "code",
      "execution_count": 6,
      "metadata": {
        "id": "7xxTZUlloj6H"
      },
      "outputs": [],
      "source": [
        "class Activations:\n",
        "  @staticmethod\n",
        "  def sigmoid(x):\n",
        "    return 1/(1+np.exp(-x))\n",
        "  @staticmethod\n",
        "  def relu(x):\n",
        "    return np.maximum(0, x)\n",
        "  @staticmethod\n",
        "  def linear(x):\n",
        "    return x\n",
        "  @staticmethod\n",
        "  def softmax(x):\n",
        "    e_x = np.exp(x-np.max(x))\n",
        "    return e_x/e_x.sum(axis=1).reshape(-1,1)\n",
        "  @staticmethod\n",
        "  def d_sigmoid(x):\n",
        "    return Activations.sigmoid(x) * (1 - Activations.sigmoid(x))\n",
        "  @staticmethod\n",
        "  def d_linear(x):\n",
        "    return np.ones(x.shape)\n",
        "  @staticmethod\n",
        "  def d_relu(x):\n",
        "    return (x>=0).astype(int)\n",
        "  @staticmethod\n",
        "  def d_softmax(x, y):\n",
        "    # x itu de_dnet\n",
        "    x[np.arange(y.flatten().shape[0]), y.flatten()] = -(1-x[np.arange(y.flatten().shape[0]), y.flatten()])\n",
        "    return x*-1\n"
      ]
    },
    {
      "cell_type": "markdown",
      "metadata": {
        "id": "KRyyj_QlGqfk"
      },
      "source": [
        "## Layer Class"
      ]
    },
    {
      "cell_type": "code",
      "execution_count": 7,
      "metadata": {
        "id": "QC9FJsPWGu57"
      },
      "outputs": [],
      "source": [
        "class Layer:\n",
        "\tdef __init__(self, prev_nodes: int, num_nodes: int, activation_func):\n",
        "\t\tself.weights = np.random.standard_normal((prev_nodes, num_nodes))\n",
        "\t\tself.weights = np.r_[np.zeros((1, num_nodes)), self.weights]\n",
        "\t\tself.num_nodes = num_nodes\n",
        "\t\tself.activation_func = activation_func"
      ]
    },
    {
      "cell_type": "markdown",
      "metadata": {
        "id": "hTc9FvzzG7O-"
      },
      "source": [
        "## Graph Class"
      ]
    },
    {
      "cell_type": "code",
      "execution_count": 8,
      "metadata": {
        "id": "A_vqOVy7G-Gn"
      },
      "outputs": [],
      "source": [
        "class Graph:\n",
        "\tdef __init__(self, input_count, n_layers, n_neurons, activation_funcs):\n",
        "\t\t'''\n",
        "\t\tinput_count: int\n",
        "\t\t\tJumlah elemen input\n",
        "\t\tn_layers: int\n",
        "\t\t\tJumlah layer\n",
        "\t\tn_neurons: list[int]\n",
        "\t\t\tJumlah neuron untuk tiap layer\n",
        "\t\tactivation_func: list[ActivationFunction]\n",
        "\t\t\tFungsi aktivasi untuk tiap layer\n",
        "\t\t'''\n",
        "\t\tself.layers = []\n",
        "\t\tself.n_layer = n_layers\n",
        "\t\tfor i in range(n_layers):\n",
        "\t\t\tif (i==0):\n",
        "\t\t\t\tnew_layer = Layer(input_count, n_neurons[i], activation_funcs[i])\n",
        "\t\t\telse:\n",
        "\t\t\t\tnew_layer = Layer(self.layers[i-1].num_nodes, n_neurons[i], activation_funcs[i])\n",
        "\t\t\tself.add_layer(new_layer)\n",
        "\n",
        "\t\tself.output_activation = self.layers[len(self.layers)-1].activation_func\n",
        "\t\n",
        "\tdef add_layer(self, layer: Layer):\n",
        "\t\tself.layers.append(layer)\n",
        "\n",
        "\tdef get_layer_output(self, layer: Layer, inputs: np.array):\n",
        "\t\tlayer.inputs = np.c_[np.ones((inputs.shape[0], 1)), inputs]\n",
        "\t\tlayer.net_value = np.dot(layer.inputs, layer.weights)\n",
        "\t\n",
        "\t\tif layer.activation_func == ActivationFunction.SIGMOID:\n",
        "\t \t\tlayer.output = Activations.sigmoid(layer.net_value)\n",
        "\t\telif layer.activation_func == ActivationFunction.RELU:\n",
        "\t\t\tlayer.output = Activations.relu(layer.net_value)\n",
        "\t\telif layer.activation_func == ActivationFunction.LINEAR:\n",
        "\t\t\tlayer.output = Activations.linear(layer.net_value)\n",
        "\t\telif layer.activation_func == ActivationFunction.SOFTMAX:\n",
        "\t\t\tlayer.output = Activations.softmax(layer.net_value)\n",
        "\t\t\n",
        "\tdef predict(self, x: np.ndarray):\n",
        "\t\tfor i in range(len(self.layers)):\n",
        "\t\t\tif i==0:\n",
        "\t\t\t\tself.get_layer_output(self.layers[i], x)\n",
        "\t\t\telse:\n",
        "\t\t\t\tself.get_layer_output(self.layers[i], self.layers[i-1].output)\n",
        "\t\treturn self.layers[len(self.layers)-1].output\n",
        "\t\t\n",
        "\tdef get_layer_deriv(self, delta: np.ndarray, lr: float, layer: Layer, y: np.ndarray = None):\n",
        "\t\tif y is not None:\n",
        "\t\t\tif layer.activation_func == ActivationFunction.SIGMOID:\n",
        "\t\t\t\tde_dnet = Activations.d_sigmoid(layer.net_value) * (y-layer.output)\n",
        "\t\t\telif layer.activation_func == ActivationFunction.RELU:\n",
        "\t\t\t\tde_dnet = Activations.d_relu(layer.net_value) * (y-layer.output)\n",
        "\t\t\telif layer.activation_func == ActivationFunction.LINEAR:\n",
        "\t\t\t\tde_dnet = Activations.d_linear(layer.net_value) * (y-layer.output)\n",
        "\t\t\telif layer.activation_func == ActivationFunction.SOFTMAX:\n",
        "\t\t\t\tde_dnet = Activations.d_softmax(layer.output, y)\n",
        "\t\telse:\n",
        "\t\t\tif layer.activation_func == ActivationFunction.SIGMOID:\n",
        "\t\t\t\tde_dnet = delta * Activations.d_sigmoid(layer.net_value)\n",
        "\t\t\telif layer.activation_func == ActivationFunction.RELU:\n",
        "\t\t\t\tde_dnet = delta * Activations.d_relu(layer.net_value)\n",
        "\t\t\telif layer.activation_func == ActivationFunction.LINEAR:\n",
        "\t\t\t\tde_dnet = delta * Activations.d_linear(layer.net_value)\n",
        "\n",
        "\t\tderiv = np.dot(np.transpose(de_dnet), layer.inputs)\n",
        "\t\tgrad = np.dot(de_dnet, np.transpose(layer.weights))[:,1:]\n",
        "\t\tlayer.weights += lr*np.transpose(deriv)\n",
        "\t\treturn grad\n",
        "\t\n",
        "\tdef backpropagate(self, learning_rate, y):\n",
        "\t\tdelta = self.get_layer_deriv(None, learning_rate, self.layers[len(self.layers)-1], y)\t\n",
        "\t\tfor i in range(len(self.layers)-2,-1,-1):\n",
        "\t\t\tdelta = self.get_layer_deriv(delta, learning_rate, self.layers[i])\n",
        "\t\t\t\n",
        "\tdef error(self, yhat: np.ndarray, y: np.ndarray, activation_func: ActivationFunction):\n",
        "\t\tif activation_func == ActivationFunction.SOFTMAX:\n",
        "\t\t\treturn -np.log(yhat[np.arange(yhat.shape[0]), y.flatten()]).sum()/yhat.shape[0]\n",
        "\t\telse:\n",
        "\t\t\treturn np.sum(np.square(y-yhat))/2\n",
        "\n",
        "\tdef train(self, x_train: np.ndarray, y_train: np.ndarray, lr, err_thresh, batch_size, max_iter=10000, print_per_iter=1000):\n",
        "\t\t'''\n",
        "\t\tx_train: np.ndarray\n",
        "\t\t\tInput training\n",
        "\t\ty_train: np.ndarray\n",
        "\t\t\tOutput dari x_train\n",
        "\t\tlr: float\n",
        "\t\t\tLearning rate\n",
        "\t\terr_thresh: float\n",
        "\t\t\tError threshold\n",
        "\t\tmax_iter: int\n",
        "\t\t\tJumlah maksimum iterasi\n",
        "\t\tprint_per_iter: int\n",
        "\t\t\tPrint nilai error setiap berapa iterasi\n",
        "\t\t'''\n",
        "\t\tcount_iter = 0\n",
        "\t\twhile True:\n",
        "\t\t\terr = 0\n",
        "\t\t\tall_batch_x = []\n",
        "\t\t\tall_batch_y = []\n",
        "\t\t\tn_batches = x_train.shape[0]//batch_size\n",
        "\n",
        "\t\t\tfor i in range(n_batches):\n",
        "\t\t\t\tmini_batch_x=x_train[i*batch_size:(i+1)*batch_size,:]\n",
        "\t\t\t\tall_batch_x.append(mini_batch_x)\n",
        "\n",
        "\t\t\t\tmini_batch_y=y_train[i*batch_size:(i+1)*batch_size,:]\n",
        "\t\t\t\tall_batch_y.append(mini_batch_y)\n",
        "\n",
        "\t\t\tif x_train.shape[0]%batch_size!=0:\n",
        "\t\t\t\tmini_batch_x=x_train[(i+1)*batch_size:,:]\n",
        "\t\t\t\tall_batch_x.append(mini_batch_x)\n",
        "\n",
        "\t\t\t\tmini_batch_y=y_train[(i+1)*batch_size:,:]\n",
        "\t\t\t\tall_batch_y.append(mini_batch_y)     \n",
        "\t\t\n",
        "\t\t\t\tn_batches+=1\n",
        "\n",
        "\t\t\tfor i in range(n_batches):\n",
        "\t\t\t\tyhat = self.predict(all_batch_x[i])\n",
        "\t\t\t\terr += self.error(yhat, all_batch_y[i], self.output_activation)\n",
        "\t\t\t\tself.backpropagate(lr, all_batch_y[i])\n",
        "\t\t \n",
        "\t\t\tcount_iter+= 1\n",
        "\t\t\tif count_iter % print_per_iter == 0:\n",
        "\t\t\t\tprint(f'Iterasi {count_iter}: error {err:.7f}')\n",
        "\t\t\tif count_iter >= max_iter:\n",
        "\t\t\t\tprint(\"Iterasi maksimum\")\n",
        "\t\t\t\tbreak\n",
        "\t\t\tif err <= err_thresh:\n",
        "\t\t\t\tprint(\"Mencapai nilai error di bawah batas\")\n",
        "\t\t\t\tbreak\n",
        "\t\tprint(f'Berakhir pada iterasi: {count_iter}')\n",
        "\t\tprint(f'Nilai error final: {err}')\n",
        "\t\t\n",
        "\tdef display_table(self):\n",
        "\t\tfor i,layer in enumerate(self.layers):\n",
        "\t\t\tprint(\"~~~~~~~~~~~~~~~~~~~~~~~~~~~~~~~~~~~~~~~~~~~~~~~~~~\")\n",
        "\t\t\tprint(f'Layer {i}:')\n",
        "\t\t\tprint()\n",
        "\t\t\tprint(\"Weights:\")\n",
        "\t\t\tprint(layer.weights)\n",
        "\t\t\tprint()\n",
        "\t\t\tprint(f\"Activation Function: {layer.activation_func}\")\n",
        "\t\t\tprint(\"~~~~~~~~~~~~~~~~~~~~~~~~~~~~~~~~~~~~~~~~~~~~~~~~~~\")\n",
        "\t\t\tprint()\n",
        "\t\tprint(f\"Jumlah hidden layer: {self.n_layer - 1}\")\n"
      ]
    },
    {
      "cell_type": "markdown",
      "metadata": {
        "id": "UQK0SFh3HHra"
      },
      "source": [
        "## Main Function"
      ]
    },
    {
      "cell_type": "markdown",
      "metadata": {},
      "source": [
        "Fungsi aktivasi Softmax hanya dipakai untuk layer output. Berikut adalah hasil program untuk fungsi aktivasi sigmoid, linear, dan ReLU beserta perbandingannya dengan hasil sklearn MLPClassifier dengan fungsi aktivasi dan learning rate yang sama."
      ]
    },
    {
      "cell_type": "markdown",
      "metadata": {
        "id": "Y9LICNdPuRVe"
      },
      "source": [
        "### Load Dataset"
      ]
    },
    {
      "cell_type": "code",
      "execution_count": 9,
      "metadata": {
        "id": "aUBdZGY5ST3a"
      },
      "outputs": [],
      "source": [
        "from sklearn import datasets\n",
        "from sklearn.neural_network import MLPClassifier\n",
        "iris = datasets.load_iris()\n",
        "x, y = iris.data, iris.target"
      ]
    },
    {
      "cell_type": "markdown",
      "metadata": {
        "id": "JUWYlDElupL5"
      },
      "source": [
        "### Sigmoid Activation"
      ]
    },
    {
      "cell_type": "markdown",
      "metadata": {
        "id": "LNczwjWwvdgp"
      },
      "source": [
        "#### Create Neural Network and Train"
      ]
    },
    {
      "cell_type": "code",
      "execution_count": 11,
      "metadata": {
        "colab": {
          "base_uri": "https://localhost:8080/"
        },
        "id": "CWt46uXiunZh",
        "outputId": "98b1a767-dba2-467e-c174-3069568ffb7c"
      },
      "outputs": [
        {
          "name": "stdout",
          "output_type": "stream",
          "text": [
            "Iterasi 1000: error 0.3335933\n",
            "Iterasi 2000: error 0.3271069\n",
            "Iterasi 3000: error 0.2834308\n",
            "Iterasi 4000: error 0.2228436\n",
            "Iterasi 5000: error 0.1614233\n",
            "Iterasi 6000: error 0.1407939\n",
            "Iterasi 7000: error 0.1242449\n",
            "Iterasi 8000: error 0.1160744\n",
            "Iterasi 9000: error 0.1122010\n",
            "Iterasi 10000: error 0.1099577\n",
            "Iterasi maksimum\n",
            "Berakhir pada iterasi: 10000\n",
            "Nilai error final: 0.10995771128868609\n"
          ]
        }
      ],
      "source": [
        "#input_count, n_layers, n_neurons, activation_funcs\n",
        "grafSigmoid = Graph(len(iris.feature_names), 2, [3, len(iris.target_names)], ['sigmoid', 'softmax'])\n",
        "#x, y, learning rate, error threshold, batch size, max iter?, print per iter?\n",
        "grafSigmoid.train(x, y.reshape(-1,1), 1e-2, 2e-2,50)"
      ]
    },
    {
      "cell_type": "markdown",
      "metadata": {
        "id": "4MBmRSQQvhpB"
      },
      "source": [
        "#### Show Model"
      ]
    },
    {
      "cell_type": "code",
      "execution_count": 26,
      "metadata": {
        "colab": {
          "base_uri": "https://localhost:8080/"
        },
        "id": "RNKyOO1vu4-D",
        "outputId": "0d11aeca-c69e-4a5e-e30f-fb0fafd6d3d5"
      },
      "outputs": [
        {
          "name": "stdout",
          "output_type": "stream",
          "text": [
            "~~~~~~~~~~~~~~~~~~~~~~~~~~~~~~~~~~~~~~~~~~~~~~~~~~\n",
            "Layer 0:\n",
            "\n",
            "Weights:\n",
            "[[  2.74918621   0.15710989 -10.02987639]\n",
            " [ -3.59834072   0.15456866 -11.45842846]\n",
            " [  7.70916153  -2.51921782  -1.54086399]\n",
            " [ -0.27510784   1.31759582  14.03993498]\n",
            " [ -3.47608161  -1.66360663  11.48571861]]\n",
            "\n",
            "Activation Function: sigmoid\n",
            "~~~~~~~~~~~~~~~~~~~~~~~~~~~~~~~~~~~~~~~~~~~~~~~~~~\n",
            "\n",
            "~~~~~~~~~~~~~~~~~~~~~~~~~~~~~~~~~~~~~~~~~~~~~~~~~~\n",
            "Layer 1:\n",
            "\n",
            "Weights:\n",
            "[[ -6.90245537   7.67772312  -0.77526775]\n",
            " [ 18.65579164  -1.63012924 -20.47740615]\n",
            " [ -1.73111449   1.77378346   0.9413586 ]\n",
            " [ -4.98029069  -5.00669068   7.53054733]]\n",
            "\n",
            "Activation Function: softmax\n",
            "~~~~~~~~~~~~~~~~~~~~~~~~~~~~~~~~~~~~~~~~~~~~~~~~~~\n",
            "\n",
            "Jumlah hidden layer: 1\n"
          ]
        }
      ],
      "source": [
        "grafSigmoid.display_table()"
      ]
    },
    {
      "cell_type": "markdown",
      "metadata": {
        "id": "5ejvK3uiwhKy"
      },
      "source": [
        "#### Hasil Prediksi"
      ]
    },
    {
      "cell_type": "code",
      "execution_count": 27,
      "metadata": {
        "colab": {
          "base_uri": "https://localhost:8080/"
        },
        "id": "y-QC9pSPHJTg",
        "outputId": "e2fbeb3c-7142-434a-fdd5-2b43b7286475"
      },
      "outputs": [
        {
          "name": "stdout",
          "output_type": "stream",
          "text": [
            "['setosa' 'setosa' 'setosa' 'setosa' 'setosa' 'setosa' 'setosa' 'setosa'\n",
            " 'setosa' 'setosa' 'setosa' 'setosa' 'setosa' 'setosa' 'setosa' 'setosa'\n",
            " 'setosa' 'setosa' 'setosa' 'setosa' 'setosa' 'setosa' 'setosa' 'setosa'\n",
            " 'setosa' 'setosa' 'setosa' 'setosa' 'setosa' 'setosa' 'setosa' 'setosa'\n",
            " 'setosa' 'setosa' 'setosa' 'setosa' 'setosa' 'setosa' 'setosa' 'setosa'\n",
            " 'setosa' 'setosa' 'setosa' 'setosa' 'setosa' 'setosa' 'setosa' 'setosa'\n",
            " 'setosa' 'setosa' 'versicolor' 'versicolor' 'versicolor' 'versicolor'\n",
            " 'versicolor' 'versicolor' 'versicolor' 'versicolor' 'versicolor'\n",
            " 'versicolor' 'versicolor' 'versicolor' 'versicolor' 'versicolor'\n",
            " 'versicolor' 'versicolor' 'versicolor' 'versicolor' 'versicolor'\n",
            " 'versicolor' 'virginica' 'versicolor' 'versicolor' 'versicolor'\n",
            " 'versicolor' 'versicolor' 'versicolor' 'versicolor' 'versicolor'\n",
            " 'versicolor' 'versicolor' 'versicolor' 'versicolor' 'virginica'\n",
            " 'versicolor' 'versicolor' 'versicolor' 'versicolor' 'versicolor'\n",
            " 'versicolor' 'versicolor' 'versicolor' 'versicolor' 'versicolor'\n",
            " 'versicolor' 'versicolor' 'versicolor' 'versicolor' 'versicolor'\n",
            " 'versicolor' 'virginica' 'virginica' 'virginica' 'virginica' 'virginica'\n",
            " 'virginica' 'virginica' 'virginica' 'virginica' 'virginica' 'virginica'\n",
            " 'virginica' 'virginica' 'virginica' 'virginica' 'virginica' 'virginica'\n",
            " 'virginica' 'virginica' 'virginica' 'virginica' 'virginica' 'virginica'\n",
            " 'virginica' 'virginica' 'virginica' 'virginica' 'virginica' 'virginica'\n",
            " 'virginica' 'virginica' 'virginica' 'virginica' 'virginica' 'virginica'\n",
            " 'virginica' 'virginica' 'virginica' 'virginica' 'virginica' 'virginica'\n",
            " 'virginica' 'virginica' 'virginica' 'virginica' 'virginica' 'virginica'\n",
            " 'virginica' 'virginica' 'virginica']\n"
          ]
        }
      ],
      "source": [
        "yhat_1 = grafSigmoid.predict(x)\n",
        "yhat = np.argmax(yhat_1, axis=1)\n",
        "print(iris.target_names[yhat])"
      ]
    },
    {
      "cell_type": "markdown",
      "metadata": {
        "id": "wM-VXNhVwsn0"
      },
      "source": [
        "#### MLPClassifier Result"
      ]
    },
    {
      "cell_type": "code",
      "execution_count": 28,
      "metadata": {
        "colab": {
          "base_uri": "https://localhost:8080/"
        },
        "id": "pv5SOIoWSzzz",
        "outputId": "89401ba7-a79a-48e8-97b9-bc44842e80d6"
      },
      "outputs": [
        {
          "data": {
            "text/plain": [
              "array(['setosa', 'setosa', 'setosa', 'setosa', 'setosa', 'setosa',\n",
              "       'setosa', 'setosa', 'setosa', 'setosa', 'setosa', 'setosa',\n",
              "       'setosa', 'setosa', 'setosa', 'setosa', 'setosa', 'setosa',\n",
              "       'setosa', 'setosa', 'setosa', 'setosa', 'setosa', 'setosa',\n",
              "       'setosa', 'setosa', 'setosa', 'setosa', 'setosa', 'setosa',\n",
              "       'setosa', 'setosa', 'setosa', 'setosa', 'setosa', 'setosa',\n",
              "       'setosa', 'setosa', 'setosa', 'setosa', 'setosa', 'setosa',\n",
              "       'setosa', 'setosa', 'setosa', 'setosa', 'setosa', 'setosa',\n",
              "       'setosa', 'setosa', 'versicolor', 'versicolor', 'versicolor',\n",
              "       'versicolor', 'versicolor', 'versicolor', 'versicolor',\n",
              "       'versicolor', 'versicolor', 'versicolor', 'versicolor',\n",
              "       'versicolor', 'versicolor', 'versicolor', 'versicolor',\n",
              "       'versicolor', 'versicolor', 'versicolor', 'versicolor',\n",
              "       'versicolor', 'virginica', 'versicolor', 'versicolor',\n",
              "       'versicolor', 'versicolor', 'versicolor', 'versicolor',\n",
              "       'versicolor', 'versicolor', 'versicolor', 'versicolor',\n",
              "       'versicolor', 'versicolor', 'virginica', 'versicolor',\n",
              "       'versicolor', 'versicolor', 'versicolor', 'versicolor',\n",
              "       'versicolor', 'versicolor', 'versicolor', 'versicolor',\n",
              "       'versicolor', 'versicolor', 'versicolor', 'versicolor',\n",
              "       'versicolor', 'versicolor', 'versicolor', 'virginica', 'virginica',\n",
              "       'virginica', 'virginica', 'virginica', 'virginica', 'virginica',\n",
              "       'virginica', 'virginica', 'virginica', 'virginica', 'virginica',\n",
              "       'virginica', 'virginica', 'virginica', 'virginica', 'virginica',\n",
              "       'virginica', 'virginica', 'virginica', 'virginica', 'virginica',\n",
              "       'virginica', 'virginica', 'virginica', 'virginica', 'virginica',\n",
              "       'virginica', 'virginica', 'virginica', 'virginica', 'virginica',\n",
              "       'virginica', 'versicolor', 'virginica', 'virginica', 'virginica',\n",
              "       'virginica', 'virginica', 'virginica', 'virginica', 'virginica',\n",
              "       'virginica', 'virginica', 'virginica', 'virginica', 'virginica',\n",
              "       'virginica', 'virginica', 'virginica'], dtype='<U10')"
            ]
          },
          "execution_count": 28,
          "metadata": {},
          "output_type": "execute_result"
        }
      ],
      "source": [
        "sklearn_sigmoid = MLPClassifier(hidden_layer_sizes=(3,), activation='logistic', max_iter=10000, batch_size=50, learning_rate='constant', learning_rate_init=1e-2)\n",
        "sklearn_sigmoid.fit(x,y)\n",
        "iris.target_names[sklearn_sigmoid.predict(x)]"
      ]
    },
    {
      "cell_type": "markdown",
      "metadata": {
        "id": "JqEV64umxCLX"
      },
      "source": [
        "### ReLU Activation"
      ]
    },
    {
      "cell_type": "markdown",
      "metadata": {
        "id": "8-QrH9BXyPIP"
      },
      "source": [
        "#### Create Neural Network and Train"
      ]
    },
    {
      "cell_type": "code",
      "execution_count": 29,
      "metadata": {
        "colab": {
          "base_uri": "https://localhost:8080/"
        },
        "id": "x639zkK3y665",
        "outputId": "5209269f-889f-4afc-f45b-ae68c72d8b2b"
      },
      "outputs": [
        {
          "name": "stdout",
          "output_type": "stream",
          "text": [
            "Iterasi 1000: error 1.2127796\n",
            "Iterasi 2000: error 0.7749713\n",
            "Iterasi 3000: error 0.5844361\n",
            "Iterasi 4000: error 0.4820500\n",
            "Iterasi 5000: error 0.4171609\n",
            "Iterasi 6000: error 0.3726297\n",
            "Iterasi 7000: error 0.3409879\n",
            "Iterasi 8000: error 0.3170229\n",
            "Iterasi 9000: error 0.2982381\n",
            "Iterasi 10000: error 0.2830913\n",
            "Iterasi maksimum\n",
            "Berakhir pada iterasi: 10000\n",
            "Nilai error final: 0.28309126071707835\n"
          ]
        }
      ],
      "source": [
        "#input_count, n_layers, n_neurons, activation_funcs\n",
        "grafRelu = Graph(len(iris.feature_names), 2, [3, len(iris.target_names)], ['relu', 'softmax'])\n",
        "#x, y, learning rate, error threshold, batch size, max iter?, print per iter?\n",
        "grafRelu.train(x, y.reshape(-1,1), 1e-4, 2e-2,50)"
      ]
    },
    {
      "cell_type": "markdown",
      "metadata": {
        "id": "F7mKbhEsyT1Y"
      },
      "source": [
        "#### Show Model"
      ]
    },
    {
      "cell_type": "code",
      "execution_count": 30,
      "metadata": {
        "colab": {
          "base_uri": "https://localhost:8080/"
        },
        "id": "qgkC5_1fNrAU",
        "outputId": "b0a11db3-9f78-448a-e7b4-751ec7dc35f3"
      },
      "outputs": [
        {
          "name": "stdout",
          "output_type": "stream",
          "text": [
            "~~~~~~~~~~~~~~~~~~~~~~~~~~~~~~~~~~~~~~~~~~~~~~~~~~\n",
            "Layer 0:\n",
            "\n",
            "Weights:\n",
            "[[ 1.38452176  0.          0.        ]\n",
            " [ 1.86039067 -0.30034126 -0.92095352]\n",
            " [ 1.8655005   0.74222744  0.32894113]\n",
            " [-2.84158011 -1.66083625 -0.61676459]\n",
            " [-2.32330972 -0.28552651  0.2470814 ]]\n",
            "\n",
            "Activation Function: relu\n",
            "~~~~~~~~~~~~~~~~~~~~~~~~~~~~~~~~~~~~~~~~~~~~~~~~~~\n",
            "\n",
            "~~~~~~~~~~~~~~~~~~~~~~~~~~~~~~~~~~~~~~~~~~~~~~~~~~\n",
            "Layer 1:\n",
            "\n",
            "Weights:\n",
            "[[-4.54403955  0.91263322  3.63140633]\n",
            " [ 2.10624908  1.27707952 -3.03125637]\n",
            " [-0.35383836 -0.2110127  -1.05054517]\n",
            " [ 1.88911902 -1.11631424 -0.01339836]]\n",
            "\n",
            "Activation Function: softmax\n",
            "~~~~~~~~~~~~~~~~~~~~~~~~~~~~~~~~~~~~~~~~~~~~~~~~~~\n",
            "\n",
            "Jumlah hidden layer: 1\n"
          ]
        }
      ],
      "source": [
        "grafRelu.display_table()"
      ]
    },
    {
      "cell_type": "markdown",
      "metadata": {
        "id": "6FbzMEJ_yZn0"
      },
      "source": [
        "#### Hasil Prediksi"
      ]
    },
    {
      "cell_type": "code",
      "execution_count": 31,
      "metadata": {
        "colab": {
          "base_uri": "https://localhost:8080/"
        },
        "id": "o6E90wEjPKNu",
        "outputId": "814c7694-11ae-4e60-9f30-08e9986bd13c"
      },
      "outputs": [
        {
          "name": "stdout",
          "output_type": "stream",
          "text": [
            "['setosa' 'setosa' 'setosa' 'setosa' 'setosa' 'setosa' 'setosa' 'setosa'\n",
            " 'setosa' 'setosa' 'setosa' 'setosa' 'setosa' 'setosa' 'setosa' 'setosa'\n",
            " 'setosa' 'setosa' 'setosa' 'setosa' 'setosa' 'setosa' 'setosa' 'setosa'\n",
            " 'setosa' 'setosa' 'setosa' 'setosa' 'setosa' 'setosa' 'setosa' 'setosa'\n",
            " 'setosa' 'setosa' 'setosa' 'setosa' 'setosa' 'setosa' 'setosa' 'setosa'\n",
            " 'setosa' 'setosa' 'setosa' 'setosa' 'setosa' 'setosa' 'setosa' 'setosa'\n",
            " 'setosa' 'setosa' 'versicolor' 'versicolor' 'versicolor' 'versicolor'\n",
            " 'versicolor' 'versicolor' 'versicolor' 'versicolor' 'versicolor'\n",
            " 'versicolor' 'versicolor' 'versicolor' 'versicolor' 'versicolor'\n",
            " 'versicolor' 'versicolor' 'versicolor' 'versicolor' 'versicolor'\n",
            " 'versicolor' 'virginica' 'versicolor' 'virginica' 'versicolor'\n",
            " 'versicolor' 'versicolor' 'versicolor' 'versicolor' 'versicolor'\n",
            " 'versicolor' 'versicolor' 'versicolor' 'versicolor' 'virginica'\n",
            " 'versicolor' 'versicolor' 'versicolor' 'versicolor' 'versicolor'\n",
            " 'versicolor' 'versicolor' 'versicolor' 'versicolor' 'versicolor'\n",
            " 'versicolor' 'versicolor' 'versicolor' 'versicolor' 'versicolor'\n",
            " 'versicolor' 'virginica' 'virginica' 'virginica' 'virginica' 'virginica'\n",
            " 'virginica' 'virginica' 'virginica' 'virginica' 'virginica' 'virginica'\n",
            " 'virginica' 'virginica' 'virginica' 'virginica' 'virginica' 'virginica'\n",
            " 'virginica' 'virginica' 'virginica' 'virginica' 'virginica' 'virginica'\n",
            " 'virginica' 'virginica' 'virginica' 'virginica' 'virginica' 'virginica'\n",
            " 'virginica' 'virginica' 'virginica' 'virginica' 'virginica' 'virginica'\n",
            " 'virginica' 'virginica' 'virginica' 'virginica' 'virginica' 'virginica'\n",
            " 'virginica' 'virginica' 'virginica' 'virginica' 'virginica' 'virginica'\n",
            " 'virginica' 'virginica' 'virginica']\n"
          ]
        }
      ],
      "source": [
        "yhat_1 = grafRelu.predict(x)\n",
        "yhat = np.argmax(yhat_1, axis=1)\n",
        "print(iris.target_names[yhat])"
      ]
    },
    {
      "cell_type": "markdown",
      "metadata": {
        "id": "RqGjnky_ynVi"
      },
      "source": [
        "#### MLPClassifier Result"
      ]
    },
    {
      "cell_type": "code",
      "execution_count": 32,
      "metadata": {
        "colab": {
          "base_uri": "https://localhost:8080/"
        },
        "id": "sbFC-XC3_eKd",
        "outputId": "7a0b8dec-3ade-490e-d1e8-a51e46528094"
      },
      "outputs": [
        {
          "data": {
            "text/plain": [
              "array(['setosa', 'setosa', 'setosa', 'setosa', 'setosa', 'setosa',\n",
              "       'setosa', 'setosa', 'setosa', 'setosa', 'setosa', 'setosa',\n",
              "       'setosa', 'setosa', 'setosa', 'setosa', 'setosa', 'setosa',\n",
              "       'setosa', 'setosa', 'setosa', 'setosa', 'setosa', 'setosa',\n",
              "       'setosa', 'setosa', 'setosa', 'setosa', 'setosa', 'setosa',\n",
              "       'setosa', 'setosa', 'setosa', 'setosa', 'setosa', 'setosa',\n",
              "       'setosa', 'setosa', 'setosa', 'setosa', 'setosa', 'setosa',\n",
              "       'setosa', 'setosa', 'setosa', 'setosa', 'setosa', 'setosa',\n",
              "       'setosa', 'setosa', 'versicolor', 'versicolor', 'versicolor',\n",
              "       'versicolor', 'versicolor', 'versicolor', 'versicolor',\n",
              "       'versicolor', 'versicolor', 'versicolor', 'versicolor',\n",
              "       'versicolor', 'versicolor', 'versicolor', 'versicolor',\n",
              "       'versicolor', 'versicolor', 'versicolor', 'virginica',\n",
              "       'versicolor', 'virginica', 'versicolor', 'virginica', 'versicolor',\n",
              "       'versicolor', 'versicolor', 'versicolor', 'virginica',\n",
              "       'versicolor', 'versicolor', 'versicolor', 'versicolor',\n",
              "       'versicolor', 'virginica', 'versicolor', 'versicolor',\n",
              "       'versicolor', 'versicolor', 'versicolor', 'versicolor',\n",
              "       'versicolor', 'versicolor', 'versicolor', 'versicolor',\n",
              "       'versicolor', 'versicolor', 'versicolor', 'versicolor',\n",
              "       'versicolor', 'versicolor', 'virginica', 'virginica', 'virginica',\n",
              "       'virginica', 'virginica', 'virginica', 'virginica', 'virginica',\n",
              "       'virginica', 'virginica', 'virginica', 'virginica', 'virginica',\n",
              "       'virginica', 'virginica', 'virginica', 'virginica', 'virginica',\n",
              "       'virginica', 'virginica', 'virginica', 'virginica', 'virginica',\n",
              "       'virginica', 'virginica', 'virginica', 'virginica', 'virginica',\n",
              "       'virginica', 'virginica', 'virginica', 'virginica', 'virginica',\n",
              "       'virginica', 'virginica', 'virginica', 'virginica', 'virginica',\n",
              "       'virginica', 'virginica', 'virginica', 'virginica', 'virginica',\n",
              "       'virginica', 'virginica', 'virginica', 'virginica', 'virginica',\n",
              "       'virginica', 'virginica'], dtype='<U10')"
            ]
          },
          "execution_count": 32,
          "metadata": {},
          "output_type": "execute_result"
        }
      ],
      "source": [
        "sklearn_relu = MLPClassifier(hidden_layer_sizes=(3,), activation='relu', max_iter=10000, batch_size=50, learning_rate='constant', learning_rate_init=1e-4)\n",
        "sklearn_relu.fit(x,y)\n",
        "iris.target_names[sklearn_relu.predict(x)]"
      ]
    },
    {
      "cell_type": "markdown",
      "metadata": {
        "id": "UltbpRuOxNDY"
      },
      "source": [
        "### Linear Activation"
      ]
    },
    {
      "cell_type": "markdown",
      "metadata": {
        "id": "tPSX5_z3yPfT"
      },
      "source": [
        "#### Create Neural Network and Train"
      ]
    },
    {
      "cell_type": "code",
      "execution_count": 33,
      "metadata": {
        "colab": {
          "base_uri": "https://localhost:8080/"
        },
        "id": "qZyKAErq3kX-",
        "outputId": "c4565886-559e-4a57-b872-d88f8c08e738"
      },
      "outputs": [
        {
          "name": "stdout",
          "output_type": "stream",
          "text": [
            "Iterasi 1000: error 1.9378099\n",
            "Iterasi 2000: error 0.8478677\n",
            "Iterasi 3000: error 0.5984444\n",
            "Iterasi 4000: error 0.4753763\n",
            "Iterasi 5000: error 0.4034580\n",
            "Iterasi 6000: error 0.3568364\n",
            "Iterasi 7000: error 0.3244343\n",
            "Iterasi 8000: error 0.3006924\n",
            "Iterasi 9000: error 0.2825906\n",
            "Iterasi 10000: error 0.2683712\n",
            "Iterasi maksimum\n",
            "Berakhir pada iterasi: 10000\n",
            "Nilai error final: 0.2683711525638142\n"
          ]
        }
      ],
      "source": [
        "#input_count, n_layers, n_neurons, activation_funcs\n",
        "grafLinear = Graph(len(iris.feature_names), 3, [3, 3, len(iris.target_names)], ['linear', 'sigmoid', 'softmax'])\n",
        "#x, y, learning rate, error threshold, batch size, max iter?, print per iter?\n",
        "grafLinear.train(x, y.reshape(-1,1), 1e-4, 2e-2,50)"
      ]
    },
    {
      "cell_type": "markdown",
      "metadata": {
        "id": "xcLIfsLvyULf"
      },
      "source": [
        "#### Show Model"
      ]
    },
    {
      "cell_type": "code",
      "execution_count": 34,
      "metadata": {
        "colab": {
          "base_uri": "https://localhost:8080/"
        },
        "id": "n4-VZyHUO9O0",
        "outputId": "11cd65a9-1898-44c9-ad63-c2685d6d1c1c"
      },
      "outputs": [
        {
          "name": "stdout",
          "output_type": "stream",
          "text": [
            "~~~~~~~~~~~~~~~~~~~~~~~~~~~~~~~~~~~~~~~~~~~~~~~~~~\n",
            "Layer 0:\n",
            "\n",
            "Weights:\n",
            "[[ 1.37230779  0.1401563   0.29778531]\n",
            " [ 1.33262776 -0.00731426 -0.33150972]\n",
            " [ 1.26766773  1.1198438  -0.37250186]\n",
            " [-1.95858695  0.63673126 -0.68699408]\n",
            " [-1.84924861 -0.55419071 -1.04302786]]\n",
            "\n",
            "Activation Function: linear\n",
            "~~~~~~~~~~~~~~~~~~~~~~~~~~~~~~~~~~~~~~~~~~~~~~~~~~\n",
            "\n",
            "~~~~~~~~~~~~~~~~~~~~~~~~~~~~~~~~~~~~~~~~~~~~~~~~~~\n",
            "Layer 1:\n",
            "\n",
            "Weights:\n",
            "[[-3.64659024e-05 -4.93899927e-01  3.18439884e-02]\n",
            " [ 3.18984793e-01 -3.50145774e+00  1.55826242e+00]\n",
            " [ 1.46588805e-02 -3.99120544e-01 -6.33778232e-01]\n",
            " [-1.91885725e+00 -6.62989715e-01  1.07772499e+00]]\n",
            "\n",
            "Activation Function: sigmoid\n",
            "~~~~~~~~~~~~~~~~~~~~~~~~~~~~~~~~~~~~~~~~~~~~~~~~~~\n",
            "\n",
            "~~~~~~~~~~~~~~~~~~~~~~~~~~~~~~~~~~~~~~~~~~~~~~~~~~\n",
            "Layer 2:\n",
            "\n",
            "Weights:\n",
            "[[-0.613368    1.2106436  -0.5972756 ]\n",
            " [-0.51619637  1.27655383 -0.80533024]\n",
            " [-2.89714963 -2.89298769  4.29552799]\n",
            " [ 4.90591372 -2.59394055 -0.67624181]]\n",
            "\n",
            "Activation Function: softmax\n",
            "~~~~~~~~~~~~~~~~~~~~~~~~~~~~~~~~~~~~~~~~~~~~~~~~~~\n",
            "\n",
            "Jumlah hidden layer: 2\n"
          ]
        }
      ],
      "source": [
        "grafLinear.display_table()"
      ]
    },
    {
      "cell_type": "markdown",
      "metadata": {
        "id": "rT_DIulAyZZ2"
      },
      "source": [
        "#### Hasil Prediksi"
      ]
    },
    {
      "cell_type": "code",
      "execution_count": 35,
      "metadata": {
        "colab": {
          "base_uri": "https://localhost:8080/"
        },
        "id": "A2hox5i5PWBT",
        "outputId": "f1030b6a-cbbf-42cd-b734-cf9d9cb92c79"
      },
      "outputs": [
        {
          "name": "stdout",
          "output_type": "stream",
          "text": [
            "['setosa' 'setosa' 'setosa' 'setosa' 'setosa' 'setosa' 'setosa' 'setosa'\n",
            " 'setosa' 'setosa' 'setosa' 'setosa' 'setosa' 'setosa' 'setosa' 'setosa'\n",
            " 'setosa' 'setosa' 'setosa' 'setosa' 'setosa' 'setosa' 'setosa' 'setosa'\n",
            " 'setosa' 'setosa' 'setosa' 'setosa' 'setosa' 'setosa' 'setosa' 'setosa'\n",
            " 'setosa' 'setosa' 'setosa' 'setosa' 'setosa' 'setosa' 'setosa' 'setosa'\n",
            " 'setosa' 'setosa' 'setosa' 'setosa' 'setosa' 'setosa' 'setosa' 'setosa'\n",
            " 'setosa' 'setosa' 'versicolor' 'versicolor' 'versicolor' 'versicolor'\n",
            " 'versicolor' 'versicolor' 'versicolor' 'versicolor' 'versicolor'\n",
            " 'versicolor' 'versicolor' 'versicolor' 'versicolor' 'versicolor'\n",
            " 'versicolor' 'versicolor' 'versicolor' 'versicolor' 'versicolor'\n",
            " 'versicolor' 'virginica' 'versicolor' 'virginica' 'versicolor'\n",
            " 'versicolor' 'versicolor' 'versicolor' 'versicolor' 'versicolor'\n",
            " 'versicolor' 'versicolor' 'versicolor' 'versicolor' 'virginica'\n",
            " 'versicolor' 'versicolor' 'versicolor' 'versicolor' 'versicolor'\n",
            " 'versicolor' 'versicolor' 'versicolor' 'versicolor' 'versicolor'\n",
            " 'versicolor' 'versicolor' 'versicolor' 'versicolor' 'versicolor'\n",
            " 'versicolor' 'virginica' 'virginica' 'virginica' 'virginica' 'virginica'\n",
            " 'virginica' 'virginica' 'virginica' 'virginica' 'virginica' 'virginica'\n",
            " 'virginica' 'virginica' 'virginica' 'virginica' 'virginica' 'virginica'\n",
            " 'virginica' 'virginica' 'virginica' 'virginica' 'virginica' 'virginica'\n",
            " 'virginica' 'virginica' 'virginica' 'virginica' 'virginica' 'virginica'\n",
            " 'virginica' 'virginica' 'virginica' 'virginica' 'virginica' 'virginica'\n",
            " 'virginica' 'virginica' 'virginica' 'virginica' 'virginica' 'virginica'\n",
            " 'virginica' 'virginica' 'virginica' 'virginica' 'virginica' 'virginica'\n",
            " 'virginica' 'virginica' 'virginica']\n"
          ]
        }
      ],
      "source": [
        "yhat_1 = grafLinear.predict(x)\n",
        "yhat = np.argmax(yhat_1, axis=1)\n",
        "print(iris.target_names[yhat])"
      ]
    },
    {
      "cell_type": "markdown",
      "metadata": {
        "id": "pBVnDM9rynp6"
      },
      "source": [
        "#### MLPClassifier Result"
      ]
    },
    {
      "cell_type": "code",
      "execution_count": 36,
      "metadata": {
        "colab": {
          "base_uri": "https://localhost:8080/"
        },
        "id": "0rIwyb8G_e1w",
        "outputId": "8ffd9602-6751-45b0-b44d-e47b5264aefe"
      },
      "outputs": [
        {
          "data": {
            "text/plain": [
              "array(['setosa', 'setosa', 'setosa', 'setosa', 'setosa', 'setosa',\n",
              "       'setosa', 'setosa', 'setosa', 'setosa', 'setosa', 'setosa',\n",
              "       'setosa', 'setosa', 'setosa', 'setosa', 'setosa', 'setosa',\n",
              "       'setosa', 'setosa', 'setosa', 'setosa', 'setosa', 'setosa',\n",
              "       'setosa', 'setosa', 'setosa', 'setosa', 'setosa', 'setosa',\n",
              "       'setosa', 'setosa', 'setosa', 'setosa', 'setosa', 'setosa',\n",
              "       'setosa', 'setosa', 'setosa', 'setosa', 'setosa', 'setosa',\n",
              "       'setosa', 'setosa', 'setosa', 'setosa', 'setosa', 'setosa',\n",
              "       'setosa', 'setosa', 'versicolor', 'versicolor', 'versicolor',\n",
              "       'versicolor', 'versicolor', 'versicolor', 'versicolor',\n",
              "       'versicolor', 'versicolor', 'versicolor', 'versicolor',\n",
              "       'versicolor', 'versicolor', 'versicolor', 'versicolor',\n",
              "       'versicolor', 'versicolor', 'versicolor', 'virginica',\n",
              "       'versicolor', 'versicolor', 'versicolor', 'virginica',\n",
              "       'versicolor', 'versicolor', 'versicolor', 'versicolor',\n",
              "       'virginica', 'versicolor', 'versicolor', 'versicolor',\n",
              "       'versicolor', 'versicolor', 'virginica', 'versicolor',\n",
              "       'versicolor', 'versicolor', 'versicolor', 'versicolor',\n",
              "       'versicolor', 'versicolor', 'versicolor', 'versicolor',\n",
              "       'versicolor', 'versicolor', 'versicolor', 'versicolor',\n",
              "       'versicolor', 'versicolor', 'versicolor', 'virginica', 'virginica',\n",
              "       'virginica', 'virginica', 'virginica', 'virginica', 'virginica',\n",
              "       'virginica', 'virginica', 'virginica', 'virginica', 'virginica',\n",
              "       'virginica', 'virginica', 'virginica', 'virginica', 'virginica',\n",
              "       'virginica', 'virginica', 'virginica', 'virginica', 'virginica',\n",
              "       'virginica', 'virginica', 'virginica', 'virginica', 'virginica',\n",
              "       'virginica', 'virginica', 'virginica', 'virginica', 'virginica',\n",
              "       'virginica', 'virginica', 'virginica', 'virginica', 'virginica',\n",
              "       'virginica', 'virginica', 'virginica', 'virginica', 'virginica',\n",
              "       'virginica', 'virginica', 'virginica', 'virginica', 'virginica',\n",
              "       'virginica', 'virginica', 'virginica'], dtype='<U10')"
            ]
          },
          "execution_count": 36,
          "metadata": {},
          "output_type": "execute_result"
        }
      ],
      "source": [
        "from sklearn.neural_network import MLPClassifier\n",
        "iris_classifier_sklearn = MLPClassifier(hidden_layer_sizes=(3,), activation='identity', max_iter=10000, batch_size=50, learning_rate='constant', learning_rate_init=1e-4)\n",
        "iris_classifier_sklearn.fit(x,y)\n",
        "iris.target_names[iris_classifier_sklearn.predict(x)]"
      ]
    }
  ],
  "metadata": {
    "colab": {
      "collapsed_sections": [],
      "name": "TubesB_13519096 (refaktor lagi part 2)",
      "provenance": [],
      "toc_visible": true
    },
    "kernelspec": {
      "display_name": "Python 3",
      "name": "python3"
    },
    "language_info": {
      "codemirror_mode": {
        "name": "ipython",
        "version": 3
      },
      "file_extension": ".py",
      "mimetype": "text/x-python",
      "name": "python",
      "nbconvert_exporter": "python",
      "pygments_lexer": "ipython3",
      "version": "3.8.10"
    }
  },
  "nbformat": 4,
  "nbformat_minor": 0
}
